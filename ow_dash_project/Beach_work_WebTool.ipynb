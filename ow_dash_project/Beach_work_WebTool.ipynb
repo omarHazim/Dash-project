{
 "cells": [
  {
   "cell_type": "markdown",
   "metadata": {
    "extensions": {
     "jupyter_dashboards": {
      "version": 1,
      "views": {
       "grid_default": {
        "col": 0,
        "height": 4,
        "hidden": false,
        "row": 0,
        "width": 12
       },
       "report_default": {}
      }
     }
    },
    "lang": "en"
   },
   "source": [
    "<img src = 'ow.png' style=\"height:50px\">\n",
    "\n",
    "# <div style=\"text-align: center\"> GeoSpot/STHLM office  </div>"
   ]
  },
  {
   "cell_type": "code",
   "execution_count": 1,
   "metadata": {
    "collapsed": true,
    "extensions": {
     "jupyter_dashboards": {
      "version": 1,
      "views": {
       "grid_default": {
        "hidden": true
       },
       "report_default": {}
      }
     }
    },
    "scrolled": true
   },
   "outputs": [],
   "source": [
    "## set up Dash with classes for all of the visual components of the application\n",
    "import pandas as pd\n",
    "import numpy as np\n",
    "import matplotlib.pyplot as plt\n",
    "from geopy.geocoders import Nominatim \n",
    "from itertools import count\n",
    "from datetime import datetime\n",
    "import itertools\n",
    "import plotly \n",
    "import plotly.plotly as py\n",
    "from plotly.graph_objs import *\n",
    "import os\n",
    "import folium\n",
    "import requests, json \n",
    "import pycountry\n",
    "from IPython.display import Image\n",
    "import plotly.graph_objs as go"
   ]
  },
  {
   "cell_type": "code",
   "execution_count": 2,
   "metadata": {
    "collapsed": true,
    "extensions": {
     "jupyter_dashboards": {
      "version": 1,
      "views": {
       "grid_default": {
        "col": 0,
        "height": 15,
        "hidden": false,
        "row": 17,
        "width": 12
       },
       "report_default": {}
      }
     }
    },
    "scrolled": true
   },
   "outputs": [
    {
     "data": {
      "text/html": [
       "<div>\n",
       "<style scoped>\n",
       "    .dataframe tbody tr th:only-of-type {\n",
       "        vertical-align: middle;\n",
       "    }\n",
       "\n",
       "    .dataframe tbody tr th {\n",
       "        vertical-align: top;\n",
       "    }\n",
       "\n",
       "    .dataframe thead th {\n",
       "        text-align: right;\n",
       "    }\n",
       "</style>\n",
       "<table border=\"1\" class=\"dataframe\">\n",
       "  <thead>\n",
       "    <tr style=\"text-align: right;\">\n",
       "      <th></th>\n",
       "      <th>Name</th>\n",
       "      <th>Beach</th>\n",
       "      <th>Location</th>\n",
       "      <th>Responsible</th>\n",
       "      <th>Case code</th>\n",
       "      <th>Priority</th>\n",
       "      <th>Client</th>\n",
       "      <th>Project</th>\n",
       "      <th>Deadline</th>\n",
       "      <th>Days until DL</th>\n",
       "      <th>Status</th>\n",
       "      <th>Comment</th>\n",
       "    </tr>\n",
       "  </thead>\n",
       "  <tbody>\n",
       "    <tr>\n",
       "      <th>0</th>\n",
       "      <td>Alexander</td>\n",
       "      <td>yes</td>\n",
       "      <td>Sweden</td>\n",
       "      <td>NaN</td>\n",
       "      <td>Carl - FSP31001</td>\n",
       "      <td>Internal - Firm building</td>\n",
       "      <td>Bank A</td>\n",
       "      <td>NaN</td>\n",
       "      <td>2018-04-14</td>\n",
       "      <td>78</td>\n",
       "      <td>Ongoing</td>\n",
       "      <td>NaN</td>\n",
       "    </tr>\n",
       "    <tr>\n",
       "      <th>1</th>\n",
       "      <td>Anders</td>\n",
       "      <td>yes</td>\n",
       "      <td>United Kingdom</td>\n",
       "      <td>NaN</td>\n",
       "      <td>Sean - FSP03201</td>\n",
       "      <td>Internal - Business development</td>\n",
       "      <td>Bank B</td>\n",
       "      <td>NaN</td>\n",
       "      <td>2018-04-14</td>\n",
       "      <td>78</td>\n",
       "      <td>Ongoing</td>\n",
       "      <td>NaN</td>\n",
       "    </tr>\n",
       "    <tr>\n",
       "      <th>2</th>\n",
       "      <td>Andreas</td>\n",
       "      <td>yes</td>\n",
       "      <td>Germany</td>\n",
       "      <td>NaN</td>\n",
       "      <td>Bo - N/A</td>\n",
       "      <td>Project - Soft start</td>\n",
       "      <td>Bank A</td>\n",
       "      <td>NaN</td>\n",
       "      <td>2018-04-14</td>\n",
       "      <td>78</td>\n",
       "      <td>Ongoing</td>\n",
       "      <td>NaN</td>\n",
       "    </tr>\n",
       "    <tr>\n",
       "      <th>3</th>\n",
       "      <td>Artin</td>\n",
       "      <td>no</td>\n",
       "      <td>France</td>\n",
       "      <td>NaN</td>\n",
       "      <td>Nader - FSP11101</td>\n",
       "      <td>Project - Delivery risk / WLB</td>\n",
       "      <td>Bank B</td>\n",
       "      <td>NaN</td>\n",
       "      <td>2018-04-14</td>\n",
       "      <td>78</td>\n",
       "      <td>NaN</td>\n",
       "      <td>NaN</td>\n",
       "    </tr>\n",
       "    <tr>\n",
       "      <th>4</th>\n",
       "      <td>Axel</td>\n",
       "      <td>yes</td>\n",
       "      <td>Italy</td>\n",
       "      <td>NaN</td>\n",
       "      <td>Martin - FSP32601</td>\n",
       "      <td>Project - General help</td>\n",
       "      <td>Bank A</td>\n",
       "      <td>NaN</td>\n",
       "      <td>2018-04-14</td>\n",
       "      <td>78</td>\n",
       "      <td>Ongoing</td>\n",
       "      <td>NaN</td>\n",
       "    </tr>\n",
       "  </tbody>\n",
       "</table>\n",
       "</div>"
      ],
      "text/plain": [
       "        Name Beach        Location  Responsible          Case code  \\\n",
       "0  Alexander  yes           Sweden          NaN    Carl - FSP31001   \n",
       "1     Anders  yes   United Kingdom          NaN    Sean - FSP03201   \n",
       "2    Andreas  yes          Germany          NaN           Bo - N/A   \n",
       "3      Artin    no          France          NaN   Nader - FSP11101   \n",
       "4       Axel  yes            Italy          NaN  Martin - FSP32601   \n",
       "\n",
       "                          Priority  Client  Project   Deadline  Days until DL  \\\n",
       "0         Internal - Firm building  Bank A      NaN 2018-04-14             78   \n",
       "1  Internal - Business development  Bank B      NaN 2018-04-14             78   \n",
       "2             Project - Soft start  Bank A      NaN 2018-04-14             78   \n",
       "3    Project - Delivery risk / WLB  Bank B      NaN 2018-04-14             78   \n",
       "4           Project - General help  Bank A      NaN 2018-04-14             78   \n",
       "\n",
       "    Status  Comment  \n",
       "0  Ongoing      NaN  \n",
       "1  Ongoing      NaN  \n",
       "2  Ongoing      NaN  \n",
       "3      NaN      NaN  \n",
       "4  Ongoing      NaN  "
      ]
     },
     "execution_count": 2,
     "metadata": {},
     "output_type": "execute_result"
    }
   ],
   "source": [
    "# Reading '.xlsx' file \n",
    "# Reading the dataset in '.xlsx' file \n",
    "def import_excel(\n",
    "    xlxs_file_nme, sheet_num ,col_nme = '' , sheet_idx=False, file_loc=True):\n",
    "    \"\"\"\n",
    "    Import and convert .xlxs file to a dataframe \n",
    "    Inputs:\n",
    "    ________________\n",
    "     - xlxs_file_nme: str\n",
    "         .xlxs file name\n",
    "     - sheet_num: int / str\n",
    "         name (or number) of the sheet inside .xlxs\n",
    "     - col_nme: str\n",
    "         when sheet_idx is \"True\", add column name to set dataframe index \n",
    "     - sheet_idx: bol\n",
    "         set dataframe index according to any specified column within the \n",
    "         datframe , default \"False\" \n",
    "     - file_loc:\n",
    "    Outputs:\n",
    "    ________________\n",
    "     - dataframe of dataset\n",
    "    \"\"\"\n",
    "    if file_loc:\n",
    "        file_path = os.path.abspath(xlxs_file_nme)\n",
    "        xlsx = pd.ExcelFile(file_path)\n",
    "        sheet1 = xlsx.parse(sheet_num)\n",
    "        if sheet_idx:\n",
    "            sheet1.index = sheet1[col_nme]\n",
    "            new_df_beach_0 = sheet1.iloc[:]\n",
    "            return new_df_beach_0\n",
    "        else:\n",
    "            new_df_beach_0 = sheet1.iloc[:]\n",
    "            new_df_beach_0.reset_index(inplace= True)\n",
    "            new_df_beach_0.drop(['index'], axis=1, inplace = True)\n",
    "            return new_df_beach_0\n",
    "    else:\n",
    "        xlsx = pd.ExcelFile(xlxs_file_nme)\n",
    "        sheet1 = xlsx.parse(sheet_num)\n",
    "        if sheet_idx:\n",
    "            sheet1.index =  sheet1[col_nme]\n",
    "            new_df_beach_0 = sheet1.iloc[:]\n",
    "            return new_df_beach_0\n",
    "        else:\n",
    "            new_df_beach_0 = sheet1.iloc[:]\n",
    "            new_df_beach_0.reset_index(inplace= True)\n",
    "            new_df_beach_0.drop(['index'], axis=1, inplace = True)\n",
    "            return new_df_beach_0\n",
    "\n",
    "new_df_beach = import_excel(\n",
    "    'Copy of Beach Work HTMLversion.xlsx', sheet_num=0, sheet_idx = False, \n",
    ") #, sheet_idx='Name'\n",
    "new_df_beach.head()"
   ]
  },
  {
   "cell_type": "code",
   "execution_count": 3,
   "metadata": {
    "collapsed": true,
    "extensions": {
     "jupyter_dashboards": {
      "version": 1,
      "views": {
       "grid_default": {
        "hidden": true
       },
       "report_default": {}
      }
     }
    },
    "scrolled": true
   },
   "outputs": [],
   "source": [
    "# Building a pivot table to plot the beach resources\n",
    "#new_df_beach['Deadline/End date'].value_counts()\n",
    "#\n",
    "## 1D counting given one feature to DF\n",
    "uniq, count = np.unique(new_df_beach['Priority'], return_counts=True)\n",
    "_1D_count = dict(zip(uniq, count))\n",
    "\n",
    "## 2D counting given 2 features to DF\n",
    "df_grop = new_df_beach.groupby(['Beach','Deadline', 'Name'])\n",
    "#list(zip(*df_grop)).sum()\n",
    "plt_df = df_grop.count()\n",
    "new_plt_df = pd.DataFrame(np.array(list(zip(*df_grop.Beach))[0]), columns=['Beach','Deadline', 'Name'])\n",
    "#pd.to_datetime(new_plt_df[1])\n",
    "new_plt_df.replace(pd.to_datetime(new_plt_df['Deadline'], format='%Y%m%d'), new_df_beach['Deadline'])\n",
    "#plt.bar(x=plt_df['Days until DL'], y=plt_df['Deadline/End date'])\n",
    "counts = new_plt_df['Deadline'].value_counts()\n",
    "beach = new_plt_df['Beach'].value_counts()"
   ]
  },
  {
   "cell_type": "code",
   "execution_count": 4,
   "metadata": {
    "collapsed": true,
    "extensions": {
     "jupyter_dashboards": {
      "version": 1,
      "views": {
       "grid_default": {
        "hidden": true
       },
       "report_default": {}
      }
     }
    },
    "scrolled": true
   },
   "outputs": [],
   "source": [
    "################ plotting using bokeh##############\n",
    "#source = ColumnDataSource(data = dict(x=counts.index,count=counts.values))\n",
    "#data = pd.DataFrame(counts)\n",
    "#output_file(\"test.html\")\n",
    "##Creating plots using bokeh\n",
    "#date = [datetime.strftime(x, format='%Y-%m-%d') for x in counts.index]\n",
    "#source = ColumnDataSource(data=dict(x_1=date, counts=list(counts.values)))\n",
    "#p = figure()\n",
    "#p = figure(x_range=date,plot_height=250,toolbar_location=None, title=\"Beach resources Deadline\")\n",
    "#p.background_fill_color = \"whitesmoke\"\n",
    "#p.background_fill_alpha = .9\n",
    "#p.vbar(x='x_1',width=.4, top='counts', source=source, legend=\"Beach Res. count\")\n",
    "#p.border_fill_color = \"whitesmoke\"\n",
    "#p.min_border_left = 10\n",
    "#p.xgrid.grid_line_color = None\n",
    "#p.ygrid.grid_line_alpha = 0.9\n",
    "#p.ygrid.grid_line_dash = [6, 4]\n",
    "#show(p)\n",
    "################ plotting using matplotlib##############\n",
    "## set up a plot frame \n",
    "#fig, axs = plt.subplots(1,2, figsize=(13,5))\n",
    "#for ax in axs:\n",
    "   # ax.tick_params(color='white', labelcolor='white')\n",
    "    #for spine in ax.spines.values():\n",
    "        #spine.set_edgecolor('white')\n",
    "#axs[0].bar(counts.index, counts.values)\n",
    "\n",
    "#axs[1].pie(new_df_beach['Priority'].value_counts().values, \n",
    "        #labels=new_df_beach['Priority'].value_counts().index)\n",
    "\n",
    "\n"
   ]
  },
  {
   "cell_type": "code",
   "execution_count": 5,
   "metadata": {
    "collapsed": true,
    "extensions": {
     "jupyter_dashboards": {
      "version": 1,
      "views": {
       "grid_default": {
        "hidden": true
       },
       "report_default": {}
      }
     }
    },
    "scrolled": true
   },
   "outputs": [],
   "source": [
    "# GeoSpotting for all resource \n",
    "def country_conversion(input_countries):\n",
    "    \"\"\"\n",
    "    converts cuntry name to a alpha_3 nickname (e.g. 'Canada' >> 'CAN')\n",
    "    Inputs:\n",
    "    __________________\n",
    "     - input_countries : str\n",
    "        dataframe or list of country names\n",
    "    Outputs:\n",
    "    __________________\n",
    "     list of countries nicknames \n",
    "    \"\"\"\n",
    "    countries = {}\n",
    "    for Country in pycountry.countries:\n",
    "        countries[Country.name] = Country.alpha_3\n",
    "    codes = [countries.get(country, 'Unknown code') for country in input_countries]\n",
    "    return codes\n",
    "\n",
    "def poptext_2(df,location_col,name_col, x):\n",
    "    \"\"\"\n",
    "    Supporting func to show info for each marker on the map\n",
    "        Inputs:\n",
    "        _______________\n",
    "        - df: DataFrame\n",
    "            dataset as a dataframe \n",
    "        - location_col: str\n",
    "            location column within dataset df (e.g. city)\n",
    "        - name_col: str\n",
    "            names column within dataset df \n",
    "        - x: str\n",
    "           location iterator (in case of run this func with df.apply)\n",
    "        Outputs:\n",
    "        ______________\n",
    "        set of int and str for aggregations from main dataset df\n",
    "    \"\"\"\n",
    "    new_df = new_df_beach[[location_col, name_col]].groupby([location_col,name_col]).count()\n",
    "    nme_lst = []\n",
    "    for item in new_df.index:\n",
    "        if item[0] == x:\n",
    "            nme_lst.append(item[1])\n",
    "    \n",
    "    #'Country : {0} \\n Num of resources : {1} \\n Names : {2}'.format([x],[df[location_col].value_counts()[x]],nme_lst)\n",
    "    return 'Country : {0} \\n Names : {1}'.format([x] ,nme_lst)\n",
    "\n",
    "## Creat a func to count number of resources per country\n",
    "def poptext_1(df,location_col,name_col, x):\n",
    "    \"\"\"\n",
    "    Supporting func to show info for each marker on the map\n",
    "        Inputs:\n",
    "        _______________\n",
    "        - df: DataFrame\n",
    "            dataset as a dataframe \n",
    "        - location_col: str\n",
    "            location column within dataset df (e.g. city)\n",
    "        - name_col: str\n",
    "            names column within dataset df \n",
    "        - x: str\n",
    "           location iterator (in case of run this func with df.apply)\n",
    "        Outputs:\n",
    "        ______________\n",
    "        set of int and str for aggregations from main dataset df\n",
    "    \"\"\"\n",
    "    #info_df = pd.DataFrame()\n",
    "    new_df = new_df_beach[[location_col, name_col]].groupby([location_col,name_col]).count()\n",
    "    nme_lst = []\n",
    "    for item in new_df.index:\n",
    "        if item[0] == x:\n",
    "            nme_lst.append(item[1])\n",
    "            \n",
    "    return 'Country : {0} \\n Num of resources : {1} \\n Names : {2}'.format([x],[df[location_col].value_counts()[x]],nme_lst)\n",
    "\n",
    "## Creat a map \n",
    "## creating latitude/longtitude func\n",
    "def PlotPoint(df, location_col, name_col):\n",
    "    \"\"\"\n",
    "    Plotting coordinations points an a map\n",
    "    Inputs:\n",
    "    _______________\n",
    "      - df: dataframe \n",
    "          the inputs dataset\n",
    "      - location_col: str\n",
    "          location column within dataset df (e.g. city)\n",
    "      - name_col: str\n",
    "          names column within dataset\n",
    "    Outputs:\n",
    "    _______________\n",
    "        Geomap specifies team location \n",
    "    \"\"\"   \n",
    "    # converting location to a coordinate equivalents\n",
    "    \n",
    "    geolocator = Nominatim()\n",
    "    Lat = list(itertools.chain(df[location_col].apply(lambda x: geolocator.geocode(x, timeout=15).latitude)))\n",
    "    Long = list(itertools.chain(df[location_col].apply(lambda x: [geolocator.geocode(x, timeout=15).longitude])))\n",
    "    location = np.mean(Lat), np.mean(Long)\n",
    "    ResMap = folium.Map(location=location, zoom_start=7)\n",
    "    LongLat = df[location_col].apply(\n",
    "    lambda x: folium.Marker(\n",
    "        location=[geolocator.geocode(x, timeout=15).latitude, geolocator.geocode(x, timeout=15).longitude],\n",
    "        popup=folium.Popup(poptext_1(df, location_col,name_col, x), parse_html=True), \n",
    "        icon=folium.Icon(color='red',icon='info-sign', angle=10)).add_to(ResMap)\n",
    "    if x == 'Stockholm' else folium.Marker(\n",
    "        location=[geolocator.geocode(x, timeout=15).latitude, geolocator.geocode(x, timeout=15).longitude],\n",
    "        popup=folium.Popup(poptext_1(df, location_col,name_col, x), parse_html=True), \n",
    "        icon=folium.Icon(icon='info-sign')).add_to(ResMap)\n",
    "    )\n",
    "\n",
    "    #Set the zoom to the maximum possible\n",
    "    ResMap.fit_bounds(ResMap.get_bounds())\n",
    "    return ResMap\n",
    "\n",
    "\n",
    "    # Plotting coordinations on the map\n",
    "    #folium.CircleMarker(location=[geolocator.geocode(x, timeout=15).latitude, geolocator.geocode(x, timeout=15).longitude]).add_to(ResMap)"
   ]
  },
  {
   "cell_type": "code",
   "execution_count": 6,
   "metadata": {
    "extensions": {
     "jupyter_dashboards": {
      "version": 1,
      "views": {
       "grid_default": {
        "col": 0,
        "height": 12,
        "hidden": false,
        "row": 32,
        "width": 12
       },
       "report_default": {}
      }
     }
    },
    "scrolled": true
   },
   "outputs": [],
   "source": [
    "\n",
    "#PlotPoint(new_df_beach, 'Location', 'Name')\n"
   ]
  },
  {
   "cell_type": "markdown",
   "metadata": {
    "extensions": {
     "jupyter_dashboards": {
      "version": 1,
      "views": {
       "grid_default": {
        "col": 0,
        "height": 4,
        "hidden": true,
        "row": 44,
        "width": 12
       },
       "report_default": {}
      }
     }
    }
   },
   "source": [
    "## Appex"
   ]
  },
  {
   "cell_type": "code",
   "execution_count": 7,
   "metadata": {
    "extensions": {
     "jupyter_dashboards": {
      "version": 1,
      "views": {
       "grid_default": {
        "col": 0,
        "height": 4,
        "hidden": true,
        "row": 44,
        "width": 12
       },
       "report_default": {}
      }
     }
    },
    "scrolled": true
   },
   "outputs": [],
   "source": [
    "#df_location = pd.DataFrame(list(new_df_beach.groupby(['Location']).Location))\n",
    "#df_location.set_index(df_location[0], inplace=True)\n",
    "#np.array(list(zip(*new_df_beach.groupby(['Location', 'Name']).Location)))[0]\n",
    "#new_df_beach['Location_eql_sthlm'] = np.where(new_df_beach['Location']==\"Stockholm\", True, False)\n",
    "## setting up map to the center:\n",
    "    # 1- location = df['Latitude'].mean(), df['Longitude'].mean()\n",
    "    # 2- locationlist = df[[\"Latitude\",\"Longitude\"]].values.tolist()\n",
    "    # 3- labels = df[\"xxx\"].values.tolist()\n",
    "    # 4- m = folium.Map(location=location, zoom_start=14)\n",
    "    # 5- for point in range(len(locationlist)):\n",
    "        #popup = folium.Popup(labels[point], parse_html=True)\n",
    "        #folium.Marker(locationlist[point], popup=popup).add_to(m)\n",
    "    \n",
    "    # 6- %pycat ~/.jupyter/custom/custom.css .. / reading files \n",
    "    # 7- %%writefile -a myfile.py .. / write fle\n",
    "    # 8- %less myfile.py .. / reading file \n",
    "    # 9- !cp ow.css  ~/.jupyter/custom/custom.css ../ copy myfile.css to the main.css file\n",
    "    \n",
    "        \n"
   ]
  },
  {
   "cell_type": "code",
   "execution_count": 6,
   "metadata": {
    "collapsed": true,
    "extensions": {
     "jupyter_dashboards": {
      "version": 1,
      "views": {
       "grid_default": {
        "col": 0,
        "height": 13,
        "hidden": false,
        "row": 4,
        "width": 12
       },
       "report_default": {}
      }
     }
    },
    "scrolled": false
   },
   "outputs": [
    {
     "data": {
      "text/html": [
       "<iframe id=\"igraph\" scrolling=\"no\" style=\"border:none;\" seamless=\"seamless\" src=\"https://plot.ly/~omar.hazim/4.embed\" height=\"525px\" width=\"100%\"></iframe>"
      ],
      "text/plain": [
       "<plotly.tools.PlotlyDisplay object>"
      ]
     },
     "execution_count": 6,
     "metadata": {},
     "output_type": "execute_result"
    }
   ],
   "source": [
    "############################ Plotting using Plotly & Dash ##########################################\n",
    "## Run credentials \n",
    "\n",
    "plotly.tools.set_credentials_file(username='omar.hazim', api_key='UnoUlwMh8vwec5ezDXzB')\n",
    "mapbox_access_token = 'pk.eyJ1Ijoib21hcmhhemltIiwiYSI6ImNqY2s5cHk3MzNyZDEycm1tanV6c3pzdGUifQ.hLOK6z98WohsI19MmNBiHw'\n",
    "\n",
    "## Converting location colunms to a cooredinations figures\n",
    "geolocator = Nominatim()\n",
    "Lat = list(itertools.chain(new_df_beach['Location'].apply(lambda x: geolocator.geocode(x, timeout=15).latitude)))\n",
    "Long = list(itertools.chain(new_df_beach['Location'].apply(lambda x: [geolocator.geocode(x, timeout=15).longitude])))\n",
    "cities = list(itertools.chain(new_df_beach['Location'].values))\n",
    "\n",
    "info_1 = new_df_beach['Location'].apply(lambda i: poptext_2(new_df_beach, 'Location', 'Name', i))\n",
    "\n",
    "## Creat Traces \n",
    "trace_1 = go.Scattermapbox(\n",
    "        lat=Lat,\n",
    "        lon=Long,\n",
    "        mode='markers',\n",
    "        marker = Marker(\n",
    "            size = 13,\n",
    "            opacity = .8,\n",
    "            symbol = \"circle\",\n",
    "        ),\n",
    "       text = info_1,\n",
    ")\n",
    "\n",
    "## Map all coordinations\n",
    "data_beach = Data([trace_1])\n",
    "\n",
    "layout_beach = Layout(\n",
    "    title = \"GeoSpot - STHLM office\",\n",
    "    margin = dict(l = 20, r = 20, t = 60, b =20),\n",
    "    autosize=True,\n",
    "    hovermode='closest',\n",
    "    mapbox=dict(\n",
    "        accesstoken=mapbox_access_token,\n",
    "        bearing=0,\n",
    "        center=dict(\n",
    "        lat=np.mean(Lat),\n",
    "        lon=np.mean(Long)\n",
    "        ),\n",
    "        pitch=0,\n",
    "        zoom=0.5,\n",
    "    ),\n",
    ")\n",
    "fig_beach = dict(data=data_beach, layout=layout_beach)\n",
    "py.iplot(fig_beach, filename='Beach Resources Mapbox')\n",
    "\n",
    "\n",
    "\n"
   ]
  },
  {
   "cell_type": "code",
   "execution_count": 9,
   "metadata": {
    "extensions": {
     "jupyter_dashboards": {
      "version": 1,
      "views": {
       "grid_default": {
        "col": 0,
        "height": 4,
        "hidden": true,
        "row": 44,
        "width": 12
       },
       "report_default": {}
      }
     }
    },
    "scrolled": true
   },
   "outputs": [],
   "source": [
    "#headers = {'user-agent':'Jupyter Dashboard Deployer'}\n",
    "#files = {'file' : open('./Beach_work_WebTool.ipynb', 'r')}\n",
    "#r = requests.post('http://127.0.0.1:3000/_api/notebooks/team', files=files)\n",
    "#json.loads(r.content.decode())"
   ]
  },
  {
   "cell_type": "code",
   "execution_count": 10,
   "metadata": {
    "extensions": {
     "jupyter_dashboards": {
      "version": 1,
      "views": {
       "grid_default": {
        "col": 0,
        "height": 4,
        "hidden": true,
        "row": 44,
        "width": 12
       },
       "report_default": {}
      }
     }
    },
    "scrolled": true
   },
   "outputs": [],
   "source": [
    "#webbrowser.open('http://127.0.0.1:3000')"
   ]
  },
  {
   "cell_type": "code",
   "execution_count": 11,
   "metadata": {
    "collapsed": true,
    "extensions": {
     "jupyter_dashboards": {
      "version": 1,
      "views": {
       "grid_default": {
        "col": 0,
        "height": 4,
        "hidden": true,
        "row": 44,
        "width": 12
       },
       "report_default": {}
      }
     }
    },
    "scrolled": true
   },
   "outputs": [
    {
     "data": {
      "text/html": [
       "<iframe id=\"igraph\" scrolling=\"no\" style=\"border:none;\" seamless=\"seamless\" src=\"https://plot.ly/~omar.hazim/6.embed\" height=\"525px\" width=\"100%\"></iframe>"
      ],
      "text/plain": [
       "<plotly.tools.PlotlyDisplay object>"
      ]
     },
     "execution_count": 11,
     "metadata": {},
     "output_type": "execute_result"
    }
   ],
   "source": [
    "\n",
    "data = [ dict(\n",
    "        type = 'choropleth',\n",
    "        locations = country_conversion(set(cities)),\n",
    "        z = info_1,\n",
    "        locationmode = 'World',\n",
    "        #text = list(set(cities)),\n",
    "        colorscale = [[0,\"rgb(5, 10, 172)\"],[0.35,\"rgb(40, 60, 190)\"],[0.5,\"rgb(70, 100, 245)\"],\n",
    "                      [0.6,\"rgb(90, 120, 245)\"],[0.7,\"rgb(106, 137, 247)\"],[1,\"rgb(220, 220, 220)\"]],\n",
    "        autocolorscale = False,\n",
    "        reversescale = True,\n",
    "        marker = dict(\n",
    "            line = dict (\n",
    "                color = 'rgb(180,180,180)',\n",
    "                width = 0.5\n",
    "            ) ),\n",
    "        colorbar = dict(\n",
    "            autotick = False,\n",
    "        )\n",
    ")]\n",
    "\n",
    "layout = dict(\n",
    "    title = '2014 Global GDP<br>Source:\\\n",
    "            <a href=\"https://www.cia.gov/library/publications/the-world-factbook/fields/2195.html\">\\\n",
    "            CIA World Factbook</a>',\n",
    "    geo = dict(\n",
    "        showframe = False,\n",
    "        showcoastlines = False,\n",
    "        projection = dict(\n",
    "            type = 'Mercator'\n",
    "        )\n",
    "    )\n",
    ")\n",
    "\n",
    "fig = dict( data=data, layout=layout )\n",
    "py.iplot( fig, validate=False, filename='BEach-world-map' )"
   ]
  },
  {
   "cell_type": "code",
   "execution_count": 12,
   "metadata": {
    "extensions": {
     "jupyter_dashboards": {
      "version": 1,
      "views": {
       "grid_default": {
        "col": 0,
        "height": 8,
        "hidden": true,
        "row": 44,
        "width": 4
       },
       "report_default": {}
      }
     }
    },
    "scrolled": true
   },
   "outputs": [],
   "source": [
    "df_n = pd.DataFrame()\n",
    "df_n['country'] = list(set(cities))\n",
    "df_n['country_nk'] = country_conversion(set(cities))\n",
    "\n"
   ]
  },
  {
   "cell_type": "code",
   "execution_count": null,
   "metadata": {
    "extensions": {
     "jupyter_dashboards": {
      "version": 1,
      "views": {
       "grid_default": {
        "col": 4,
        "height": 7,
        "hidden": true,
        "row": 44,
        "width": 4
       },
       "report_default": {}
      }
     }
    },
    "scrolled": true
   },
   "outputs": [],
   "source": []
  },
  {
   "cell_type": "code",
   "execution_count": 29,
   "metadata": {
    "collapsed": true,
    "extensions": {
     "jupyter_dashboards": {
      "version": 1,
      "views": {
       "grid_default": {
        "hidden": true
       },
       "report_default": {}
      }
     }
    },
    "scrolled": true
   },
   "outputs": [
    {
     "data": {
      "text/html": [
       "<iframe id=\"igraph\" scrolling=\"no\" style=\"border:none;\" seamless=\"seamless\" src=\"https://plot.ly/~omar.hazim/8.embed\" height=\"525px\" width=\"100%\"></iframe>"
      ],
      "text/plain": [
       "<plotly.tools.PlotlyDisplay object>"
      ]
     },
     "execution_count": 29,
     "metadata": {},
     "output_type": "execute_result"
    }
   ],
   "source": [
    "############################ Plotting using Plotly & Dash ##########################################\n",
    "## Creat Traces \n",
    "\n",
    "## Creat table for dataset\n",
    "trace_2 = go.Table(\n",
    "    columnwidth=[0.4, 0.47, 0.48, 0.4, 0.4, 0.45, 0.5, 0.6],\n",
    "    header=dict(values=new_df_beach.columns[:3],\n",
    "                fill = dict(color='#C2D4FF'),\n",
    "                align = ['left'] * 5),\n",
    "    cells=dict(values=[new_df_beach.Name, new_df_beach.Beach ,new_df_beach.Location],\n",
    "               fill = dict(color='#F5F8FF'),\n",
    "               align = ['left'] * 5))\n",
    "\n",
    "\n",
    "\n",
    "py.iplot([trace_2], filename='vertical-stacked-subplot-tables')\n"
   ]
  },
  {
   "cell_type": "code",
   "execution_count": 26,
   "metadata": {
    "collapsed": true,
    "extensions": {
     "jupyter_dashboards": {
      "version": 1,
      "views": {
       "grid_default": {
        "hidden": true
       },
       "report_default": {}
      }
     }
    },
    "scrolled": true
   },
   "outputs": [
    {
     "data": {
      "text/plain": [
       "Index(['Name', 'Beach', 'Location'], dtype='object')"
      ]
     },
     "execution_count": 26,
     "metadata": {},
     "output_type": "execute_result"
    }
   ],
   "source": [
    "new_df_beach.columns[:3]"
   ]
  },
  {
   "cell_type": "code",
   "execution_count": null,
   "metadata": {
    "extensions": {
     "jupyter_dashboards": {
      "version": 1,
      "views": {
       "grid_default": {
        "hidden": true
       },
       "report_default": {}
      }
     }
    },
    "scrolled": true
   },
   "outputs": [],
   "source": []
  },
  {
   "cell_type": "code",
   "execution_count": null,
   "metadata": {
    "extensions": {
     "jupyter_dashboards": {
      "version": 1,
      "views": {
       "grid_default": {
        "hidden": true
       },
       "report_default": {}
      }
     }
    },
    "scrolled": true
   },
   "outputs": [],
   "source": []
  }
 ],
 "metadata": {
  "extensions": {
   "jupyter_dashboards": {
    "activeView": "grid_default",
    "version": 1,
    "views": {
     "grid_default": {
      "cellMargin": 10,
      "defaultCellHeight": 20,
      "maxColumns": 12,
      "name": "grid",
      "type": "grid"
     },
     "report_default": {
      "name": "report",
      "type": "report"
     }
    }
   }
  },
  "gist": {
   "data": {
    "description": "Beach_work_WebTool.ipynb",
    "public": false
   },
   "id": ""
  },
  "kernelspec": {
   "display_name": "Python 3",
   "language": "python",
   "name": "python3"
  },
  "language_info": {
   "codemirror_mode": {
    "name": "ipython",
    "version": 3
   },
   "file_extension": ".py",
   "mimetype": "text/x-python",
   "name": "python",
   "nbconvert_exporter": "python",
   "pygments_lexer": "ipython3",
   "version": "3.6.5"
  },
  "latex_envs": {
   "LaTeX_envs_menu_present": true,
   "autoclose": false,
   "autocomplete": true,
   "bibliofile": "biblio.bib",
   "cite_by": "apalike",
   "current_citInitial": 1,
   "eqLabelWithNumbers": true,
   "eqNumInitial": 1,
   "hotkeys": {
    "equation": "Ctrl-E",
    "itemize": "Ctrl-I"
   },
   "labels_anchors": false,
   "latex_user_defs": false,
   "report_style_numbering": false,
   "user_envs_cfg": false
  },
  "nbTranslate": {
   "displayLangs": [
    "en"
   ],
   "hotkey": "alt-t",
   "langInMainMenu": true,
   "sourceLang": "en",
   "targetLang": "fr",
   "useGoogleTranslate": true
  },
  "toc": {
   "nav_menu": {},
   "number_sections": false,
   "sideBar": true,
   "skip_h1_title": false,
   "toc_cell": false,
   "toc_position": {},
   "toc_section_display": "block",
   "toc_window_display": false
  }
 },
 "nbformat": 4,
 "nbformat_minor": 2
}
