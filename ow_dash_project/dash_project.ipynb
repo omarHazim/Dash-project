{
 "cells": [
  {
   "cell_type": "code",
   "execution_count": 2,
   "metadata": {
    "ExecuteTime": {
     "end_time": "2018-10-21T20:41:36.535202Z",
     "start_time": "2018-10-21T20:41:33.479229Z"
    }
   },
   "outputs": [],
   "source": [
    "import dash\n",
    "import dash_core_components as dcc\n",
    "import dash_html_components as html\n",
    "import dash_table_experiments as dt\n",
    "import plotly.graph_objs as go\n",
    "import pandas as pd\n",
    "import flask\n",
    "from geopy.geocoders import Nominatim \n",
    "import itertools\n",
    "from itertools import *\n",
    "import os\n",
    "import numpy as np\n",
    "from dash.dependencies import Input, Output, State, Event\n",
    "#import json\n"
   ]
  },
  {
   "cell_type": "code",
   "execution_count": 3,
   "metadata": {
    "ExecuteTime": {
     "end_time": "2018-10-21T20:41:36.709805Z",
     "start_time": "2018-10-21T20:41:36.538915Z"
    }
   },
   "outputs": [],
   "source": [
    "\n",
    "# Reading the dataset in '.xlsx' file \n",
    "def import_excel(\n",
    "    xlxs_file_nme, sheet_num ,col_nme = '' , sheet_idx=False, file_loc=True):\n",
    "    \"\"\"\n",
    "    Import and convert .xlxs file to a dataframe \n",
    "    Inputs:\n",
    "    ________________\n",
    "     - xlxs_file_nme: str\n",
    "         .xlxs file name\n",
    "     - sheet_num: int / str\n",
    "         name (or number) of the sheet inside .xlxs\n",
    "     - col_nme: str\n",
    "         when sheet_idx is \"True\", add column name to set dataframe index \n",
    "     - sheet_idx: bol\n",
    "         set dataframe index according to any specified column within the datframe , default \"False\" \n",
    "     - file_loc:\n",
    "    Outputs:\n",
    "    ________________\n",
    "     - dataframe of dataset\n",
    "    \"\"\"\n",
    "    if file_loc:\n",
    "        file_path = os.path.abspath(xlxs_file_nme)\n",
    "        xlsx = pd.ExcelFile(file_path)\n",
    "        sheet1 = xlsx.parse(sheet_num)\n",
    "        if sheet_idx:\n",
    "            sheet1.index = sheet1[col_nme]\n",
    "            new_df_beach_0 = sheet1.iloc[:]\n",
    "            new_df_beach_0.fillna(value= 'NaN', inplace=True)\n",
    "            return new_df_beach_0\n",
    "        else:\n",
    "            new_df_beach_0 = sheet1.iloc[:]\n",
    "            new_df_beach_0.reset_index(inplace= True)\n",
    "            new_df_beach_0.drop(['index'], axis=1, inplace = True)\n",
    "            new_df_beach_0.fillna(value= 'NaN', inplace=True)\n",
    "            return new_df_beach_0\n",
    "    else:\n",
    "        xlsx = pd.ExcelFile(xlxs_file_nme)\n",
    "        sheet1 = xlsx.parse(sheet_num)\n",
    "        if sheet_idx:\n",
    "            sheet1.index =  sheet1[col_nme]\n",
    "            new_df_beach_0 = sheet1.iloc[:]\n",
    "            new_df_beach_0.fillna(value= 'NaN', inplace=True)\n",
    "            return new_df_beach_0\n",
    "        else:\n",
    "            new_df_beach_0 = sheet1.iloc[:]\n",
    "            new_df_beach_0.reset_index(inplace= True)\n",
    "            new_df_beach_0.drop(['index'], axis=1, inplace = True)\n",
    "            new_df_beach_0.fillna(value= 'NaN', inplace=True)\n",
    "            return new_df_beach_0\n",
    "\n",
    "## Add different info to the map marker\n",
    "def df_map(\n",
    "    df, location_col, name_col, beach, proj, client, status, \n",
    "    deadline, code):\n",
    "    def poptext_3(\n",
    "        df, location_col, name_col, beach, proj, client, status, \n",
    "        deadline, code, x):\n",
    "    \n",
    "        new_df = df[\n",
    "            [location_col, name_col, beach, proj, client, status, \n",
    "             deadline, code]\n",
    "        ].groupby([location_col, name_col, beach, proj, client, status, \n",
    "                   deadline, code]).count()\n",
    "        info_lst = []\n",
    "        for info in new_df.index:\n",
    "            if info[0] == x:\n",
    "                yield 'Name: {0} , Beach: {1} , Project: {2}, Client: {3},\\\n",
    "                Status: {4}, Deadline: {5} , Case code: {6}'.format(\n",
    "                    info[1], info[2], info[3], info[4], info[5], \n",
    "                    info[6].date(), info[7])\n",
    "                \n",
    "    geolocator = Nominatim()        \n",
    "    countries = pd.DataFrame({'country': list(set(df[location_col]))})\n",
    "    countries['lat'] = countries['country'].apply(\n",
    "    lambda x: geolocator.geocode(x, timeout=15).latitude)\n",
    "    countries['lon'] = countries['country'].apply(\n",
    "    lambda x: geolocator.geocode(x, timeout=15).longitude)\n",
    "    countries['Avrg_Days_till_Deadline'] = df.groupby(['Location'])[\n",
    "        'Days until DL'].mean().round(decimals=0).values\n",
    "    countries['info'] = countries['country'].apply(lambda i: list(poptext_3(\n",
    "    df,location_col, name_col, beach, proj, client, status, \n",
    "        deadline, code, i)))\n",
    "    return countries"
   ]
  },
  {
   "cell_type": "code",
   "execution_count": 4,
   "metadata": {
    "ExecuteTime": {
     "end_time": "2018-10-21T20:41:43.122723Z",
     "start_time": "2018-10-21T20:41:36.713555Z"
    }
   },
   "outputs": [],
   "source": [
    "# Builidng Dash/plotly app ´\n",
    "new_df_beach = import_excel(\n",
    "    'Copy of Beach Work HTMLversion.xlsx', sheet_num=0, sheet_idx = False, \n",
    ") #, sheet_idx='Name'\n",
    "\n",
    "converted_df = df_map(new_df_beach,'Location', 'Name','Beach','Project' , \n",
    "                     'Client', 'Status' , 'Deadline', 'Case code')\n",
    "\n"
   ]
  },
  {
   "cell_type": "code",
   "execution_count": null,
   "metadata": {
    "ExecuteTime": {
     "start_time": "2018-10-21T18:39:08.889Z"
    },
    "collapsed": true
   },
   "outputs": [
    {
     "name": "stderr",
     "output_type": "stream",
     "text": [
      " * Running on http://127.0.0.1:8050/ (Press CTRL+C to quit)\n",
      "127.0.0.1 - - [21/Oct/2018 20:41:04] \"GET / HTTP/1.1\" 200 -\n",
      "127.0.0.1 - - [21/Oct/2018 20:41:06] \"GET /_dash-layout HTTP/1.1\" 200 -\n",
      "127.0.0.1 - - [21/Oct/2018 20:41:06] \"GET /_dash-dependencies HTTP/1.1\" 200 -\n",
      "[2018-10-21 20:41:06,581] ERROR in app: Exception on /_dash-update-component [POST]\n",
      "Traceback (most recent call last):\n",
      "  File \"/Users/omar/anaconda3/lib/python3.6/site-packages/flask/app.py\", line 1982, in wsgi_app\n",
      "    response = self.full_dispatch_request()\n",
      "  File \"/Users/omar/anaconda3/lib/python3.6/site-packages/flask/app.py\", line 1614, in full_dispatch_request\n",
      "    rv = self.handle_user_exception(e)\n",
      "  File \"/Users/omar/anaconda3/lib/python3.6/site-packages/flask/app.py\", line 1517, in handle_user_exception\n",
      "    reraise(exc_type, exc_value, tb)\n",
      "  File \"/Users/omar/anaconda3/lib/python3.6/site-packages/flask/_compat.py\", line 33, in reraise\n",
      "    raise value\n",
      "  File \"/Users/omar/anaconda3/lib/python3.6/site-packages/flask/app.py\", line 1612, in full_dispatch_request\n",
      "    rv = self.dispatch_request()\n",
      "  File \"/Users/omar/anaconda3/lib/python3.6/site-packages/flask/app.py\", line 1598, in dispatch_request\n",
      "    return self.view_functions[rule.endpoint](**req.view_args)\n",
      "  File \"/Users/omar/anaconda3/lib/python3.6/site-packages/dash/dash.py\", line 551, in dispatch\n",
      "    return self.callback_map[target_id]['callback'](*args)\n",
      "  File \"/Users/omar/anaconda3/lib/python3.6/site-packages/dash/dash.py\", line 508, in add_context\n",
      "    output_value = func(*args, **kwargs)\n",
      "  File \"<ipython-input-4-f831503f4931>\", line 42, in update_text\n",
      "    s = converted_df[converted_df['country'] == hoverData['points'][0]['customdata']]\n",
      "TypeError: 'NoneType' object is not subscriptable\n",
      "127.0.0.1 - - [21/Oct/2018 20:41:06] \"POST /_dash-update-component HTTP/1.1\" 500 -\n",
      "127.0.0.1 - - [21/Oct/2018 20:41:12] \"POST /_dash-update-component HTTP/1.1\" 200 -\n",
      "127.0.0.1 - - [21/Oct/2018 20:41:13] \"POST /_dash-update-component HTTP/1.1\" 200 -\n",
      "127.0.0.1 - - [21/Oct/2018 20:41:14] \"POST /_dash-update-component HTTP/1.1\" 200 -\n",
      "127.0.0.1 - - [21/Oct/2018 20:41:15] \"POST /_dash-update-component HTTP/1.1\" 200 -\n",
      "127.0.0.1 - - [21/Oct/2018 20:41:16] \"POST /_dash-update-component HTTP/1.1\" 200 -\n",
      "127.0.0.1 - - [21/Oct/2018 20:41:17] \"POST /_dash-update-component HTTP/1.1\" 200 -\n",
      "127.0.0.1 - - [21/Oct/2018 20:41:51] \"POST /_dash-update-component HTTP/1.1\" 200 -\n",
      "127.0.0.1 - - [21/Oct/2018 20:42:01] \"POST /_dash-update-component HTTP/1.1\" 200 -\n",
      "127.0.0.1 - - [21/Oct/2018 20:42:02] \"POST /_dash-update-component HTTP/1.1\" 200 -\n",
      "127.0.0.1 - - [21/Oct/2018 20:42:04] \"POST /_dash-update-component HTTP/1.1\" 200 -\n"
     ]
    }
   ],
   "source": [
    "# 1- Building and deploying the Dash App\n",
    "\n",
    "app = dash.Dash()\n",
    "\n",
    "# Bootstrap grid system for front-end\n",
    "app.css.append_css({'external_url': 'https://cdn.rawgit.com/plotly/dash-app-stylesheets/2d266c578d2a6e8850ebce48fdb52759b2aef506/stylesheet-oil-and-gas.css'})\n",
    "\n",
    "mapbox_access_token = 'pk.eyJ1Ijoib21hcmhhemltIiwiYSI6ImNqY2s5cHk3MzNyZDEycm1tanV6c3pzdGUifQ.hLOK6z98WohsI19MmNBiHw'\n",
    "\n",
    "\n",
    "app.layout = html.Div([\n",
    "    html.H1('Team Location'),\n",
    "    html.Div(id='text-content'),\n",
    "    dcc.Graph(id='map', figure={\n",
    "        'data': [{\n",
    "            'lat': converted_df['lat'],\n",
    "            'lon': converted_df['lon'],\n",
    "            'marker': {\n",
    "                'size': 8,\n",
    "                'opacity': 0.6,\n",
    "                'color': 'red'\n",
    "            },\n",
    "            'customdata': converted_df['country'],\n",
    "            'type': 'scattermapbox'\n",
    "        }],\n",
    "        'layout': {\n",
    "            'mapbox': {\n",
    "                'accesstoken': mapbox_access_token,\n",
    "            },\n",
    "            'hovermode': 'closest',\n",
    "            'margin': {'l': 20, 'r': 20, 'b': 20, 't': 60},\n",
    "            'autosize': True\n",
    "        }\n",
    "    })\n",
    "])\n",
    "\n",
    "\n",
    "@app.callback(\n",
    "    dash.dependencies.Output('text-content', 'children'),\n",
    "    [dash.dependencies.Input('map', 'hoverData')])\n",
    "def update_text(hoverData):\n",
    "    s = converted_df[converted_df['country'] == hoverData['points'][0]['customdata']]\n",
    "    return html.H3(\n",
    "        '{}, {} {}'.format(\n",
    "            s.iloc[0]['country'],\n",
    "            s.iloc[0]['info'],\n",
    "            s.iloc[0]['Avrg_Days_till_Deadline']\n",
    "        )\n",
    "    )\n",
    "\n",
    "app.css.append_css({\n",
    "    'external_url': 'https://codepen.io/chriddyp/pen/bWLwgP.css'\n",
    "})\n",
    "\n",
    "if __name__ == '__main__':\n",
    "    app.run_server()"
   ]
  },
  {
   "cell_type": "code",
   "execution_count": null,
   "metadata": {
    "collapsed": true
   },
   "outputs": [],
   "source": [
    "\n"
   ]
  },
  {
   "cell_type": "code",
   "execution_count": null,
   "metadata": {},
   "outputs": [],
   "source": [
    "\n",
    "app = dash.Dash()\n",
    "mapbox_access_token = 'pk.eyJ1Ijoib21hcmhhemltIiwiYSI6ImNqY2s5cHk3MzNyZDEycm1tanV6c3pzdGUifQ.hLOK6z98WohsI19MmNBiHw'\n",
    "\n",
    "\n",
    "app.layout = html.Div([\n",
    "    html.Div(\n",
    "        html.Pre(id='lasso', style={'overflowY': 'scroll', 'height': '100vh'}),\n",
    "        className=\"three columns\"\n",
    "    ),\n",
    "\n",
    "    html.Div(\n",
    "        className=\"nine columns\",\n",
    "        children=dcc.Graph(\n",
    "            id='graph',\n",
    "            figure={\n",
    "                'data': [{\n",
    "                    'lat': converted_df['lat'], 'lon': converted_df['lon'], 'type': 'scattermapbox',\n",
    "                    'text': converted_df['info']\n",
    "                }],\n",
    "                'layout': {\n",
    "                    'mapbox': {\n",
    "                        'accesstoken': (\n",
    "                            mapbox_access_token\n",
    "                        )\n",
    "                    },\n",
    "                    'margin': {\n",
    "                        'l': 20, 'r': 20, 'b': 20, 't': 60\n",
    "                    },\n",
    "                }\n",
    "            }\n",
    "        )\n",
    "    )\n",
    "], className=\"row\")\n",
    "\n",
    "\n",
    "app.css.append_css({\n",
    "    'external_url': 'https://codepen.io/chriddyp/pen/bWLwgP.css'\n",
    "})\n",
    "\n",
    "\n",
    "@app.callback(\n",
    "    Output('lasso', 'children'),\n",
    "    [Input('graph', 'selectedData')])\n",
    "def display_data(selectedData):\n",
    "    return json.dumps(selectedData, indent=2)\n",
    "\n",
    "\n",
    "if __name__ == '__main__':\n",
    "    app.run_server(debug=False)"
   ]
  },
  {
   "cell_type": "code",
   "execution_count": 13,
   "metadata": {
    "collapsed": true,
    "scrolled": false
   },
   "outputs": [],
   "source": [
    "new_df_beach = import_excel(\n",
    "    'Copy of Beach Work HTMLversion.xlsx', sheet_num=0, sheet_idx = False)\n",
    "geolocator = Nominatim()\n",
    "new_df_beach['Lat'] = list(itertools.chain(new_df_beach['Location'].apply(lambda x: geolocator.geocode(x, timeout=15).latitude)))\n",
    "new_df_beach['Lon'] = list(itertools.chain(new_df_beach['Location'].apply(lambda x: [geolocator.geocode(x, timeout=15).longitude])))\n",
    "new_df_beach['idx'] = list(i+1 for i in new_df_beach.index)\n",
    "cities = list(itertools.chain(new_df_beach['Location'].values))\n",
    "info_1 = new_df_beach['Location'].apply(lambda i: poptext_2(new_df_beach, 'Location', 'Name','Deadline', i))\n",
    "lat = list(itertools.chain(set(new_df_beach['Location'].apply(lambda x: geolocator.geocode(x, timeout=15).latitude))))\n",
    "lon = list(itertools.chain(set(new_df_beach['Location'].apply(lambda x: geolocator.geocode(x, timeout=15).longitude))))\n"
   ]
  },
  {
   "cell_type": "code",
   "execution_count": null,
   "metadata": {},
   "outputs": [
    {
     "name": "stderr",
     "output_type": "stream",
     "text": [
      " * Running on http://127.0.0.1:8050/ (Press CTRL+C to quit)\n",
      "127.0.0.1 - - [26/Jan/2018 22:04:48] \"GET / HTTP/1.1\" 200 -\n",
      "127.0.0.1 - - [26/Jan/2018 22:04:49] \"GET /_dash-layout HTTP/1.1\" 200 -\n",
      "127.0.0.1 - - [26/Jan/2018 22:04:49] \"GET /_dash-dependencies HTTP/1.1\" 200 -\n",
      "127.0.0.1 - - [26/Jan/2018 22:04:50] \"GET /favicon.ico HTTP/1.1\" 200 -\n"
     ]
    }
   ],
   "source": [
    "\n",
    "app = dash.Dash()\n",
    "\n",
    "app.layout = html.Div([\n",
    "    html.H1('STHLM Office Team Map'),\n",
    "    html.Div(id='text-content'),\n",
    "    dcc.Graph(id='map', figure={\n",
    "        'data': [{\n",
    "            'lat': lat,\n",
    "            'lon': lon,\n",
    "            'marker': {\n",
    "                #'color': new_df_beach['Deadline'],\n",
    "                'size': 8,\n",
    "                'opacity': 0.6\n",
    "            },\n",
    "            'customdata': list(set(cities)),\n",
    "            'type': 'scattermapbox'\n",
    "        }],\n",
    "        'layout': {\n",
    "            'mapbox': {\n",
    "                'accesstoken': 'pk.eyJ1Ijoib21hcmhhemltIiwiYSI6ImNqY2s5cHk3MzNyZDEycm1tanV6c3pzdGUifQ.hLOK6z98WohsI19MmNBiHw',\n",
    "                'center': {'lat': np.mean(lat), 'lon': np.mean(lon)}\n",
    "            },\n",
    "            'hovermode': 'closest',\n",
    "            'margin': {'l': 20, 'r': 20, 'b': 20, 't': 60}\n",
    "        }\n",
    "    })\n",
    "])\n",
    "\n",
    "\n",
    "app.css.append_css({\n",
    "    'external_url': 'https://codepen.io/chriddyp/pen/bWLwgP.css'\n",
    "})\n",
    "\n",
    "if __name__ == '__main__':\n",
    "    app.run_server(debug=False)"
   ]
  },
  {
   "cell_type": "code",
   "execution_count": 21,
   "metadata": {
    "collapsed": true
   },
   "outputs": [],
   "source": [
    "\n"
   ]
  },
  {
   "cell_type": "code",
   "execution_count": 221,
   "metadata": {},
   "outputs": [
    {
     "data": {
      "text/plain": [
       "0    ['Russian Federation'].['Emil', 'Olle', 'Sean B']\n",
       "1           ['France'].['Artin', 'Justin', 'Rikard S']\n",
       "2         ['Germany'].['Andreas', 'Jonas', 'Rikard L']\n",
       "3                      ['Finland'].['Erik R', 'Oscar']\n",
       "4              ['Denmark'].['Erik H', 'Omar', 'Sofia']\n",
       "5       ['United Kingdom'].['Anders', 'Johan', 'Paul']\n",
       "6         ['Spain'].['Daniel', 'Kristoffer', 'Sara H']\n",
       "7      ['United States'].['Emelie', 'Mikko', 'Sara J']\n",
       "8         ['Sweden'].['Alexander', 'Jennifer', 'Otto']\n",
       "9              ['Italy'].['Axel', 'Kristin', 'Samuel']\n",
       "Name: info, dtype: object"
      ]
     },
     "execution_count": 221,
     "metadata": {},
     "output_type": "execute_result"
    }
   ],
   "source": []
  },
  {
   "cell_type": "code",
   "execution_count": null,
   "metadata": {
    "collapsed": true
   },
   "outputs": [],
   "source": []
  },
  {
   "cell_type": "code",
   "execution_count": null,
   "metadata": {
    "collapsed": true,
    "lang": "en"
   },
   "outputs": [],
   "source": []
  },
  {
   "cell_type": "code",
   "execution_count": null,
   "metadata": {
    "collapsed": true,
    "lang": "fr"
   },
   "outputs": [],
   "source": []
  },
  {
   "cell_type": "code",
   "execution_count": 7,
   "metadata": {
    "collapsed": true
   },
   "outputs": [],
   "source": [
    "# {\n",
    "#'col':[]\n",
    "#'data': [[1], [2]]\n",
    "#}\n"
   ]
  },
  {
   "cell_type": "code",
   "execution_count": 3,
   "metadata": {
    "code_folding": [],
    "collapsed": true
   },
   "outputs": [],
   "source": [
    "def new_info_model(df, location_col, name_col, beach):\n",
    "    \"\"\"\n",
    "    Building info model to plug into map markers\n",
    "    \"\"\"\n",
    "    def poptext_marker(df, location_col, name_col, beach, x):\n",
    "            new_df_0 = df[\n",
    "                [location_col, name_col, beach]\n",
    "            ].groupby([location_col, name_col, beach]).count()\n",
    "            return new_df_0.loc[x]\n",
    "    geolocator = Nominatim() \n",
    "    countries = pd.DataFrame({\n",
    "        'country': list(set(df[location_col]))})\n",
    "    countries['lat'] = countries['country'].apply(\n",
    "    lambda x: geolocator.geocode(x, timeout=15).latitude)\n",
    "    countries['lon'] = countries['country'].apply(\n",
    "    lambda x: geolocator.geocode(x, timeout=15).longitude)\n",
    "    countries['Avrg_Days_till_Deadline'] = df.groupby([location_col])[\n",
    "        'Days until DL'].mean().round(decimals=0).values\n",
    "    countries['info'] = countries['country'].apply(\n",
    "        lambda i: poptext_marker(\n",
    "            df, location_col, name_col, beach, i))\n",
    "    countries.index = countries['country']\n",
    "    return countries\n",
    "    \n"
   ]
  },
  {
   "cell_type": "code",
   "execution_count": 13,
   "metadata": {
    "ExecuteTime": {
     "end_time": "2018-10-21T19:35:25.182545Z",
     "start_time": "2018-10-21T19:35:25.070669Z"
    }
   },
   "outputs": [
    {
     "ename": "NameError",
     "evalue": "name 'new_info_model' is not defined",
     "output_type": "error",
     "traceback": [
      "\u001b[0;31m---------------------------------------------------------------------------\u001b[0m",
      "\u001b[0;31mNameError\u001b[0m                                 Traceback (most recent call last)",
      "\u001b[0;32m<ipython-input-13-4a1ca772b3c0>\u001b[0m in \u001b[0;36m<module>\u001b[0;34m()\u001b[0m\n\u001b[1;32m      3\u001b[0m ) #, sheet_idx='Name'\n\u001b[1;32m      4\u001b[0m \u001b[0;34m\u001b[0m\u001b[0m\n\u001b[0;32m----> 5\u001b[0;31m \u001b[0mconverted_df\u001b[0m \u001b[0;34m=\u001b[0m \u001b[0mnew_info_model\u001b[0m\u001b[0;34m(\u001b[0m\u001b[0mnew_df\u001b[0m\u001b[0;34m,\u001b[0m \u001b[0;34m'Location'\u001b[0m\u001b[0;34m,\u001b[0m \u001b[0;34m'Name'\u001b[0m\u001b[0;34m,\u001b[0m \u001b[0;34m'Beach'\u001b[0m\u001b[0;34m)\u001b[0m\u001b[0;34m\u001b[0m\u001b[0m\n\u001b[0m\u001b[1;32m      6\u001b[0m \u001b[0mconverted_df\u001b[0m\u001b[0;34m.\u001b[0m\u001b[0mcolumns\u001b[0m\u001b[0;34m\u001b[0m\u001b[0m\n",
      "\u001b[0;31mNameError\u001b[0m: name 'new_info_model' is not defined"
     ]
    }
   ],
   "source": [
    "new_df = import_excel(\n",
    "    'Copy of Beach Work HTMLversion.xlsx', sheet_num=0, sheet_idx = False, \n",
    ") #, sheet_idx='Name'\n",
    "\n",
    "converted_df = new_info_model(new_df, 'Location', 'Name', 'Beach')\n",
    "converted_df.columns\n"
   ]
  },
  {
   "cell_type": "code",
   "execution_count": null,
   "metadata": {
    "ExecuteTime": {
     "start_time": "2018-10-21T20:32:40.211Z"
    }
   },
   "outputs": [],
   "source": [
    "converted_df.columns"
   ]
  },
  {
   "cell_type": "code",
   "execution_count": null,
   "metadata": {
    "collapsed": true
   },
   "outputs": [
    {
     "name": "stderr",
     "output_type": "stream",
     "text": [
      " * Running on http://127.0.0.1:8050/ (Press CTRL+C to quit)\n",
      "127.0.0.1 - - [01/Feb/2018 22:02:44] \"GET / HTTP/1.1\" 200 -\n",
      "127.0.0.1 - - [01/Feb/2018 22:02:44] \"GET /_dash-layout HTTP/1.1\" 200 -\n",
      "127.0.0.1 - - [01/Feb/2018 22:02:44] \"GET /_dash-dependencies HTTP/1.1\" 200 -\n",
      "[2018-02-01 22:02:44,852] ERROR in app: Exception on /_dash-update-component [POST]\n",
      "Traceback (most recent call last):\n",
      "  File \"/Users/omar/anaconda3/lib/python3.6/site-packages/flask/app.py\", line 1982, in wsgi_app\n",
      "    response = self.full_dispatch_request()\n",
      "  File \"/Users/omar/anaconda3/lib/python3.6/site-packages/flask/app.py\", line 1614, in full_dispatch_request\n",
      "    rv = self.handle_user_exception(e)\n",
      "  File \"/Users/omar/anaconda3/lib/python3.6/site-packages/flask/app.py\", line 1517, in handle_user_exception\n",
      "    reraise(exc_type, exc_value, tb)\n",
      "  File \"/Users/omar/anaconda3/lib/python3.6/site-packages/flask/_compat.py\", line 33, in reraise\n",
      "    raise value\n",
      "  File \"/Users/omar/anaconda3/lib/python3.6/site-packages/flask/app.py\", line 1612, in full_dispatch_request\n",
      "    rv = self.dispatch_request()\n",
      "  File \"/Users/omar/anaconda3/lib/python3.6/site-packages/flask/app.py\", line 1598, in dispatch_request\n",
      "    return self.view_functions[rule.endpoint](**req.view_args)\n",
      "  File \"/Users/omar/anaconda3/lib/python3.6/site-packages/dash/dash.py\", line 551, in dispatch\n",
      "    return self.callback_map[target_id]['callback'](*args)\n",
      "  File \"/Users/omar/anaconda3/lib/python3.6/site-packages/dash/dash.py\", line 508, in add_context\n",
      "    output_value = func(*args, **kwargs)\n",
      "  File \"<ipython-input-10-d755461ab9d0>\", line 37, in update_text\n",
      "    s = converted_df[converted_df['country'] == hoverData['points'][0]['customdata']]\n",
      "TypeError: 'NoneType' object is not subscriptable\n",
      "127.0.0.1 - - [01/Feb/2018 22:02:44] \"POST /_dash-update-component HTTP/1.1\" 500 -\n",
      "[2018-02-01 22:02:48,584] ERROR in app: Exception on /_dash-update-component [POST]\n",
      "Traceback (most recent call last):\n",
      "  File \"/Users/omar/anaconda3/lib/python3.6/site-packages/flask/app.py\", line 1982, in wsgi_app\n",
      "    response = self.full_dispatch_request()\n",
      "  File \"/Users/omar/anaconda3/lib/python3.6/site-packages/flask/app.py\", line 1614, in full_dispatch_request\n",
      "    rv = self.handle_user_exception(e)\n",
      "  File \"/Users/omar/anaconda3/lib/python3.6/site-packages/flask/app.py\", line 1517, in handle_user_exception\n",
      "    reraise(exc_type, exc_value, tb)\n",
      "  File \"/Users/omar/anaconda3/lib/python3.6/site-packages/flask/_compat.py\", line 33, in reraise\n",
      "    raise value\n",
      "  File \"/Users/omar/anaconda3/lib/python3.6/site-packages/flask/app.py\", line 1612, in full_dispatch_request\n",
      "    rv = self.dispatch_request()\n",
      "  File \"/Users/omar/anaconda3/lib/python3.6/site-packages/flask/app.py\", line 1598, in dispatch_request\n",
      "    return self.view_functions[rule.endpoint](**req.view_args)\n",
      "  File \"/Users/omar/anaconda3/lib/python3.6/site-packages/dash/dash.py\", line 551, in dispatch\n",
      "    return self.callback_map[target_id]['callback'](*args)\n",
      "  File \"/Users/omar/anaconda3/lib/python3.6/site-packages/dash/dash.py\", line 508, in add_context\n",
      "    output_value = func(*args, **kwargs)\n",
      "  File \"<ipython-input-10-d755461ab9d0>\", line 41, in update_text\n",
      "    s.iloc[0]['info']\n",
      "IndexError: tuple index out of range\n",
      "127.0.0.1 - - [01/Feb/2018 22:02:48] \"POST /_dash-update-component HTTP/1.1\" 500 -\n",
      "[2018-02-01 22:02:48,661] ERROR in app: Exception on /_dash-update-component [POST]\n",
      "Traceback (most recent call last):\n",
      "  File \"/Users/omar/anaconda3/lib/python3.6/site-packages/flask/app.py\", line 1982, in wsgi_app\n",
      "    response = self.full_dispatch_request()\n",
      "  File \"/Users/omar/anaconda3/lib/python3.6/site-packages/flask/app.py\", line 1614, in full_dispatch_request\n",
      "    rv = self.handle_user_exception(e)\n",
      "  File \"/Users/omar/anaconda3/lib/python3.6/site-packages/flask/app.py\", line 1517, in handle_user_exception\n",
      "    reraise(exc_type, exc_value, tb)\n",
      "  File \"/Users/omar/anaconda3/lib/python3.6/site-packages/flask/_compat.py\", line 33, in reraise\n",
      "    raise value\n",
      "  File \"/Users/omar/anaconda3/lib/python3.6/site-packages/flask/app.py\", line 1612, in full_dispatch_request\n",
      "    rv = self.dispatch_request()\n",
      "  File \"/Users/omar/anaconda3/lib/python3.6/site-packages/flask/app.py\", line 1598, in dispatch_request\n",
      "    return self.view_functions[rule.endpoint](**req.view_args)\n",
      "  File \"/Users/omar/anaconda3/lib/python3.6/site-packages/dash/dash.py\", line 551, in dispatch\n",
      "    return self.callback_map[target_id]['callback'](*args)\n",
      "  File \"/Users/omar/anaconda3/lib/python3.6/site-packages/dash/dash.py\", line 508, in add_context\n",
      "    output_value = func(*args, **kwargs)\n",
      "  File \"<ipython-input-10-d755461ab9d0>\", line 41, in update_text\n",
      "    s.iloc[0]['info']\n",
      "IndexError: tuple index out of range\n",
      "127.0.0.1 - - [01/Feb/2018 22:02:48] \"POST /_dash-update-component HTTP/1.1\" 500 -\n",
      "[2018-02-01 22:02:48,838] ERROR in app: Exception on /_dash-update-component [POST]\n",
      "Traceback (most recent call last):\n",
      "  File \"/Users/omar/anaconda3/lib/python3.6/site-packages/flask/app.py\", line 1982, in wsgi_app\n",
      "    response = self.full_dispatch_request()\n",
      "  File \"/Users/omar/anaconda3/lib/python3.6/site-packages/flask/app.py\", line 1614, in full_dispatch_request\n",
      "    rv = self.handle_user_exception(e)\n",
      "  File \"/Users/omar/anaconda3/lib/python3.6/site-packages/flask/app.py\", line 1517, in handle_user_exception\n",
      "    reraise(exc_type, exc_value, tb)\n",
      "  File \"/Users/omar/anaconda3/lib/python3.6/site-packages/flask/_compat.py\", line 33, in reraise\n",
      "    raise value\n",
      "  File \"/Users/omar/anaconda3/lib/python3.6/site-packages/flask/app.py\", line 1612, in full_dispatch_request\n",
      "    rv = self.dispatch_request()\n",
      "  File \"/Users/omar/anaconda3/lib/python3.6/site-packages/flask/app.py\", line 1598, in dispatch_request\n",
      "    return self.view_functions[rule.endpoint](**req.view_args)\n",
      "  File \"/Users/omar/anaconda3/lib/python3.6/site-packages/dash/dash.py\", line 551, in dispatch\n",
      "    return self.callback_map[target_id]['callback'](*args)\n",
      "  File \"/Users/omar/anaconda3/lib/python3.6/site-packages/dash/dash.py\", line 508, in add_context\n",
      "    output_value = func(*args, **kwargs)\n",
      "  File \"<ipython-input-10-d755461ab9d0>\", line 41, in update_text\n",
      "    s.iloc[0]['info']\n",
      "IndexError: tuple index out of range\n",
      "127.0.0.1 - - [01/Feb/2018 22:02:48] \"POST /_dash-update-component HTTP/1.1\" 500 -\n",
      "[2018-02-01 22:02:48,909] ERROR in app: Exception on /_dash-update-component [POST]\n",
      "Traceback (most recent call last):\n",
      "  File \"/Users/omar/anaconda3/lib/python3.6/site-packages/flask/app.py\", line 1982, in wsgi_app\n",
      "    response = self.full_dispatch_request()\n",
      "  File \"/Users/omar/anaconda3/lib/python3.6/site-packages/flask/app.py\", line 1614, in full_dispatch_request\n",
      "    rv = self.handle_user_exception(e)\n",
      "  File \"/Users/omar/anaconda3/lib/python3.6/site-packages/flask/app.py\", line 1517, in handle_user_exception\n",
      "    reraise(exc_type, exc_value, tb)\n",
      "  File \"/Users/omar/anaconda3/lib/python3.6/site-packages/flask/_compat.py\", line 33, in reraise\n",
      "    raise value\n",
      "  File \"/Users/omar/anaconda3/lib/python3.6/site-packages/flask/app.py\", line 1612, in full_dispatch_request\n",
      "    rv = self.dispatch_request()\n",
      "  File \"/Users/omar/anaconda3/lib/python3.6/site-packages/flask/app.py\", line 1598, in dispatch_request\n",
      "    return self.view_functions[rule.endpoint](**req.view_args)\n",
      "  File \"/Users/omar/anaconda3/lib/python3.6/site-packages/dash/dash.py\", line 551, in dispatch\n",
      "    return self.callback_map[target_id]['callback'](*args)\n",
      "  File \"/Users/omar/anaconda3/lib/python3.6/site-packages/dash/dash.py\", line 508, in add_context\n",
      "    output_value = func(*args, **kwargs)\n",
      "  File \"<ipython-input-10-d755461ab9d0>\", line 41, in update_text\n",
      "    s.iloc[0]['info']\n",
      "IndexError: tuple index out of range\n",
      "127.0.0.1 - - [01/Feb/2018 22:02:48] \"POST /_dash-update-component HTTP/1.1\" 500 -\n",
      "[2018-02-01 22:02:56,895] ERROR in app: Exception on /_dash-update-component [POST]\n",
      "Traceback (most recent call last):\n",
      "  File \"/Users/omar/anaconda3/lib/python3.6/site-packages/flask/app.py\", line 1982, in wsgi_app\n",
      "    response = self.full_dispatch_request()\n",
      "  File \"/Users/omar/anaconda3/lib/python3.6/site-packages/flask/app.py\", line 1614, in full_dispatch_request\n",
      "    rv = self.handle_user_exception(e)\n",
      "  File \"/Users/omar/anaconda3/lib/python3.6/site-packages/flask/app.py\", line 1517, in handle_user_exception\n",
      "    reraise(exc_type, exc_value, tb)\n",
      "  File \"/Users/omar/anaconda3/lib/python3.6/site-packages/flask/_compat.py\", line 33, in reraise\n",
      "    raise value\n",
      "  File \"/Users/omar/anaconda3/lib/python3.6/site-packages/flask/app.py\", line 1612, in full_dispatch_request\n",
      "    rv = self.dispatch_request()\n",
      "  File \"/Users/omar/anaconda3/lib/python3.6/site-packages/flask/app.py\", line 1598, in dispatch_request\n",
      "    return self.view_functions[rule.endpoint](**req.view_args)\n",
      "  File \"/Users/omar/anaconda3/lib/python3.6/site-packages/dash/dash.py\", line 551, in dispatch\n",
      "    return self.callback_map[target_id]['callback'](*args)\n",
      "  File \"/Users/omar/anaconda3/lib/python3.6/site-packages/dash/dash.py\", line 508, in add_context\n",
      "    output_value = func(*args, **kwargs)\n",
      "  File \"<ipython-input-10-d755461ab9d0>\", line 41, in update_text\n",
      "    s.iloc[0]['info']\n",
      "IndexError: tuple index out of range\n"
     ]
    },
    {
     "name": "stderr",
     "output_type": "stream",
     "text": [
      "127.0.0.1 - - [01/Feb/2018 22:02:56] \"POST /_dash-update-component HTTP/1.1\" 500 -\n"
     ]
    }
   ],
   "source": [
    "app = dash.Dash()\n",
    "\n",
    "mapbox_access_token = 'pk.eyJ1Ijoib21hcmhhemltIiwiYSI6ImNqY2s5cHk3MzNyZDEycm1tanV6c3pzdGUifQ.hLOK6z98WohsI19MmNBiHw'\n",
    "\n",
    "\n",
    "app.layout = html.Div([\n",
    "    html.H1('Team Location'),\n",
    "    html.Div(id='text-content'),\n",
    "    dcc.Graph(id='map', figure={\n",
    "        'data': [{\n",
    "            'lat': converted_df['lat'],\n",
    "            'lon': converted_df['lon'],\n",
    "            'marker': {\n",
    "                'size': 8,\n",
    "                'opacity': 0.6,\n",
    "                'color': 'red'\n",
    "            },\n",
    "            'customdata': converted_df['country'],\n",
    "            'type': 'scattermapbox'\n",
    "        }],\n",
    "        'layout': {\n",
    "            'mapbox': {\n",
    "                'accesstoken': mapbox_access_token,\n",
    "            },\n",
    "            'hovermode': 'closest',\n",
    "            'margin': {'l': 20, 'r': 20, 'b': 20, 't': 60},\n",
    "            'autosize': True\n",
    "        }\n",
    "    })\n",
    "])\n",
    "\n",
    "\n",
    "@app.callback(\n",
    "    dash.dependencies.Output('text-content', 'children'),\n",
    "    [dash.dependencies.Input('map', 'hoverData')])\n",
    "def update_text(hoverData):\n",
    "    s = converted_df[converted_df['country'] == hoverData['points'][0]['customdata']]\n",
    "    return html.H3(\n",
    "        '{}, {} {}'.format(\n",
    "            #s.iloc[0]['country'],\n",
    "            #s.iloc[0]['info']\n",
    "            #s.iloc[0]['Avrg_Days_till_Deadline']\n",
    "        )\n",
    "    )\n",
    "\n",
    "app.css.append_css({\n",
    "    'external_url': 'https://codepen.io/chriddyp/pen/bWLwgP.css'\n",
    "})\n",
    "\n",
    "if __name__ == '__main__':\n",
    "    app.run_server()"
   ]
  },
  {
   "cell_type": "code",
   "execution_count": null,
   "metadata": {
    "ExecuteTime": {
     "start_time": "2018-10-20T14:53:32.871Z"
    }
   },
   "outputs": [],
   "source": []
  },
  {
   "cell_type": "code",
   "execution_count": 12,
   "metadata": {
    "ExecuteTime": {
     "end_time": "2018-10-21T21:01:30.242095Z",
     "start_time": "2018-10-21T21:01:30.087659Z"
    }
   },
   "outputs": [
    {
     "ename": "LayoutIsNotDefined",
     "evalue": "\nAttempting to assign a callback to the application but\nthe `layout` property has not been assigned.\nAssign the `layout` property before assigning callbacks.\nAlternatively, suppress this warning by setting\n`app.config['suppress_callback_exceptions']=True`\n",
     "output_type": "error",
     "traceback": [
      "\u001b[0;31m---------------------------------------------------------------------------\u001b[0m",
      "\u001b[0;31mLayoutIsNotDefined\u001b[0m                        Traceback (most recent call last)",
      "\u001b[0;32m<ipython-input-12-dfc838cf70b6>\u001b[0m in \u001b[0;36m<module>\u001b[0;34m()\u001b[0m\n\u001b[1;32m     56\u001b[0m     \u001b[0mOutput\u001b[0m\u001b[0;34m(\u001b[0m\u001b[0;34m'map-graph'\u001b[0m\u001b[0;34m,\u001b[0m \u001b[0;34m'figure'\u001b[0m\u001b[0;34m)\u001b[0m\u001b[0;34m,\u001b[0m\u001b[0;34m\u001b[0m\u001b[0m\n\u001b[1;32m     57\u001b[0m     [Input('datatable', 'rows'),\n\u001b[0;32m---> 58\u001b[0;31m      Input('datatable', 'selected_row_indices')])\n\u001b[0m\u001b[1;32m     59\u001b[0m \u001b[0;34m\u001b[0m\u001b[0m\n\u001b[1;32m     60\u001b[0m \u001b[0;32mdef\u001b[0m \u001b[0mmap_selection\u001b[0m\u001b[0;34m(\u001b[0m\u001b[0mrows\u001b[0m\u001b[0;34m,\u001b[0m \u001b[0mselected_row_indices\u001b[0m\u001b[0;34m)\u001b[0m\u001b[0;34m:\u001b[0m\u001b[0;34m\u001b[0m\u001b[0m\n",
      "\u001b[0;32m~/anaconda3/lib/python3.6/site-packages/dash/dash.py\u001b[0m in \u001b[0;36mcallback\u001b[0;34m(self, output, inputs, state, events)\u001b[0m\n\u001b[1;32m    483\u001b[0m     \u001b[0;31m# pylint: disable=dangerous-default-value\u001b[0m\u001b[0;34m\u001b[0m\u001b[0;34m\u001b[0m\u001b[0m\n\u001b[1;32m    484\u001b[0m     \u001b[0;32mdef\u001b[0m \u001b[0mcallback\u001b[0m\u001b[0;34m(\u001b[0m\u001b[0mself\u001b[0m\u001b[0;34m,\u001b[0m \u001b[0moutput\u001b[0m\u001b[0;34m,\u001b[0m \u001b[0minputs\u001b[0m\u001b[0;34m=\u001b[0m\u001b[0;34m[\u001b[0m\u001b[0;34m]\u001b[0m\u001b[0;34m,\u001b[0m \u001b[0mstate\u001b[0m\u001b[0;34m=\u001b[0m\u001b[0;34m[\u001b[0m\u001b[0;34m]\u001b[0m\u001b[0;34m,\u001b[0m \u001b[0mevents\u001b[0m\u001b[0;34m=\u001b[0m\u001b[0;34m[\u001b[0m\u001b[0;34m]\u001b[0m\u001b[0;34m)\u001b[0m\u001b[0;34m:\u001b[0m\u001b[0;34m\u001b[0m\u001b[0m\n\u001b[0;32m--> 485\u001b[0;31m         \u001b[0mself\u001b[0m\u001b[0;34m.\u001b[0m\u001b[0m_validate_callback\u001b[0m\u001b[0;34m(\u001b[0m\u001b[0moutput\u001b[0m\u001b[0;34m,\u001b[0m \u001b[0minputs\u001b[0m\u001b[0;34m,\u001b[0m \u001b[0mstate\u001b[0m\u001b[0;34m,\u001b[0m \u001b[0mevents\u001b[0m\u001b[0;34m)\u001b[0m\u001b[0;34m\u001b[0m\u001b[0m\n\u001b[0m\u001b[1;32m    486\u001b[0m \u001b[0;34m\u001b[0m\u001b[0m\n\u001b[1;32m    487\u001b[0m         callback_id = '{}.{}'.format(\n",
      "\u001b[0;32m~/anaconda3/lib/python3.6/site-packages/dash/dash.py\u001b[0m in \u001b[0;36m_validate_callback\u001b[0;34m(self, output, inputs, state, events)\u001b[0m\n\u001b[1;32m    349\u001b[0m                 \u001b[0mAlternatively\u001b[0m\u001b[0;34m,\u001b[0m \u001b[0msuppress\u001b[0m \u001b[0mthis\u001b[0m \u001b[0mwarning\u001b[0m \u001b[0mby\u001b[0m \u001b[0msetting\u001b[0m\u001b[0;34m\u001b[0m\u001b[0m\n\u001b[1;32m    350\u001b[0m                 \u001b[0;31m`\u001b[0m\u001b[0mapp\u001b[0m\u001b[0;34m.\u001b[0m\u001b[0mconfig\u001b[0m\u001b[0;34m[\u001b[0m\u001b[0;34m'suppress_callback_exceptions'\u001b[0m\u001b[0;34m]\u001b[0m\u001b[0;34m=\u001b[0m\u001b[0;32mTrue\u001b[0m\u001b[0;31m`\u001b[0m\u001b[0;34m\u001b[0m\u001b[0m\n\u001b[0;32m--> 351\u001b[0;31m             '''.replace('    ', ''))\n\u001b[0m\u001b[1;32m    352\u001b[0m \u001b[0;34m\u001b[0m\u001b[0m\n\u001b[1;32m    353\u001b[0m         for args, obj, name in [([output], Output, 'Output'),\n",
      "\u001b[0;31mLayoutIsNotDefined\u001b[0m: \nAttempting to assign a callback to the application but\nthe `layout` property has not been assigned.\nAssign the `layout` property before assigning callbacks.\nAlternatively, suppress this warning by setting\n`app.config['suppress_callback_exceptions']=True`\n"
     ]
    }
   ],
   "source": [
    "app = dash.Dash()\n",
    "\n",
    "mapbox_access_token = 'pk.eyJ1Ijoib21hcmhhemltIiwiYSI6ImNqY2s5cHk3MzNyZDEycm1tanV6c3pzdGUifQ.hLOK6z98WohsI19MmNBiHw'\n",
    "\n",
    "\n",
    "# Boostrap CSS.\n",
    "#app.config['suppress_callback_exceptions']=True\n",
    "app.css.append_css({'external_url': 'https://cdn.rawgit.com/plotly/dash-app-stylesheets/2d266c578d2a6e8850ebce48fdb52759b2aef506/stylesheet-oil-and-gas.css'})\n",
    "\n",
    "layout = dict(\n",
    "    autosize=True,\n",
    "    height=500,\n",
    "    font=dict(color=\"#191A1A\"),\n",
    "    titlefont=dict(color=\"#191A1A\", size='14'),\n",
    "    margin=dict(\n",
    "        l=35,\n",
    "        r=35,\n",
    "        b=35,\n",
    "        t=45\n",
    "    ),\n",
    "    hovermode=\"closest\",\n",
    "    plot_bgcolor='#fffcfc',\n",
    "    paper_bgcolor='#fffcfc',\n",
    "    legend=dict(font=dict(size=10), orientation='h'),\n",
    "    title='Team activity / OW-STHLM office',\n",
    "    mapbox=dict(\n",
    "        accesstoken=mapbox_access_token,\n",
    "        style=\"light\",\n",
    "        center=dict(\n",
    "            lon=-73.91251,\n",
    "            lat=40.7342\n",
    "        ),\n",
    "        zoom=10,\n",
    "    )\n",
    ")\n",
    "html.Div([\n",
    "    html.Div(\n",
    "        [dcc.Graph(id='map-graph',style={'margin-top': '20'})\n",
    "        ], className = \"six columns\"\n",
    "    ),\n",
    "    html.Div([dt.DataTable(\n",
    "        rows=converted_df.to_dict('records'),\n",
    "        columns=converted_df.columns,\n",
    "        row_selectable=True,\n",
    "        filterable=True,\n",
    "        sortable=True,\n",
    "        selected_row_indices=[],\n",
    "        id='datatable'),]\n",
    "             , style=\"light\",\n",
    "             className=\"six columns\"\n",
    "            )\n",
    "])\n",
    "\n",
    "\n",
    "@app.callback(\n",
    "    Output('map-graph', 'figure'),\n",
    "    [Input('datatable', 'rows'),\n",
    "     Input('datatable', 'selected_row_indices')])\n",
    "\n",
    "def map_selection(rows, selected_row_indices):\n",
    "    aux = pd.DataFrame(rows)\n",
    "    temp_df = aux.loc[selected_row_indices, :]\n",
    "    if len(selected_row_indices) == 0:\n",
    "        return gen_map(aux)\n",
    "    return gen_map(temp_df)\n",
    "def gen_map(map_data):\n",
    "    return {\n",
    "        \"data\": [{\n",
    "            \"type\": \"scattermapbox\",\n",
    "            \"lat\": list(map_data['lat']),\n",
    "            \"lon\": list(map_data['lon']),\n",
    "            #\"text\": list(onverted_df['Need Score']),\n",
    "            \"mode\": \"markers\",\n",
    "            \"name\": list(map_data['country']),\n",
    "            \"marker\": {\n",
    "                \"size\": 6,\n",
    "                \"opacity\": 1.0,\n",
    "                \"color\": color_scale(map_data)\n",
    "            }\n",
    "        }\n",
    "        ],\n",
    "        \"layout\": layout\n",
    "    }\n",
    "\n",
    "if __name__ == '__main__':\n",
    "    app.run_server(debug=True)"
   ]
  },
  {
   "cell_type": "code",
   "execution_count": 4,
   "metadata": {
    "ExecuteTime": {
     "end_time": "2018-10-21T20:34:59.600936Z",
     "start_time": "2018-10-21T20:34:59.567968Z"
    }
   },
   "outputs": [
    {
     "data": {
      "text/plain": [
       "Index(['country', 'lat', 'lon', 'Avrg_Days_till_Deadline', 'info'], dtype='object')"
      ]
     },
     "execution_count": 4,
     "metadata": {},
     "output_type": "execute_result"
    }
   ],
   "source": [
    "converted_df.columns"
   ]
  },
  {
   "cell_type": "code",
   "execution_count": null,
   "metadata": {},
   "outputs": [],
   "source": []
  }
 ],
 "metadata": {
  "kernelspec": {
   "display_name": "Python 3",
   "language": "python",
   "name": "python3"
  },
  "language_info": {
   "codemirror_mode": {
    "name": "ipython",
    "version": 3
   },
   "file_extension": ".py",
   "mimetype": "text/x-python",
   "name": "python",
   "nbconvert_exporter": "python",
   "pygments_lexer": "ipython3",
   "version": "3.6.5"
  },
  "latex_envs": {
   "LaTeX_envs_menu_present": true,
   "autoclose": false,
   "autocomplete": true,
   "bibliofile": "biblio.bib",
   "cite_by": "apalike",
   "current_citInitial": 1,
   "eqLabelWithNumbers": true,
   "eqNumInitial": 1,
   "hotkeys": {
    "equation": "Ctrl-E",
    "itemize": "Ctrl-I"
   },
   "labels_anchors": false,
   "latex_user_defs": false,
   "report_style_numbering": false,
   "user_envs_cfg": false
  },
  "nbTranslate": {
   "displayLangs": [
    "*"
   ],
   "hotkey": "alt-t",
   "langInMainMenu": true,
   "sourceLang": "en",
   "targetLang": "fr",
   "useGoogleTranslate": true
  },
  "toc": {
   "nav_menu": {},
   "number_sections": true,
   "sideBar": true,
   "skip_h1_title": false,
   "toc_cell": false,
   "toc_position": {},
   "toc_section_display": "block",
   "toc_window_display": false
  }
 },
 "nbformat": 4,
 "nbformat_minor": 2
}
